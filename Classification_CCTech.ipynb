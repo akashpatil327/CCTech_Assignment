{
 "cells": [
  {
   "cell_type": "markdown",
   "metadata": {},
   "source": [
    "### Import Required Librabries"
   ]
  },
  {
   "cell_type": "code",
   "execution_count": 64,
   "metadata": {},
   "outputs": [],
   "source": [
    "import pyforest\n",
    "from sklearn.model_selection import train_test_split\n",
    "from sklearn.preprocessing import StandardScaler\n",
    "from sklearn.pipeline import Pipeline\n",
    "from sklearn.linear_model import LogisticRegression\n",
    "from sklearn.tree import DecisionTreeClassifier\n",
    "from sklearn.ensemble import RandomForestClassifier\n",
    "from xgboost import XGBClassifier\n",
    "from datetime import datetime\n",
    "from sklearn.model_selection import RandomizedSearchCV, GridSearchCV\n",
    "from sklearn.metrics import roc_auc_score\n",
    "from sklearn.model_selection import StratifiedKFold\n",
    "import warnings\n",
    "warnings.filterwarnings('ignore')\n",
    "from sklearn import metrics\n",
    "from sklearn.metrics import recall_score\n",
    "from sklearn.metrics import accuracy_score,classification_report, cohen_kappa_score\n"
   ]
  },
  {
   "cell_type": "markdown",
   "metadata": {},
   "source": [
    "### Read Dataset"
   ]
  },
  {
   "cell_type": "code",
   "execution_count": 2,
   "metadata": {},
   "outputs": [],
   "source": [
    "train = pd.read_csv(\"challenge2_dataset.csv\")\n",
    "test = pd.read_csv(\"challenge2_prediction.csv\")"
   ]
  },
  {
   "cell_type": "code",
   "execution_count": 3,
   "metadata": {},
   "outputs": [
    {
     "data": {
      "text/html": [
       "<div>\n",
       "<style scoped>\n",
       "    .dataframe tbody tr th:only-of-type {\n",
       "        vertical-align: middle;\n",
       "    }\n",
       "\n",
       "    .dataframe tbody tr th {\n",
       "        vertical-align: top;\n",
       "    }\n",
       "\n",
       "    .dataframe thead th {\n",
       "        text-align: right;\n",
       "    }\n",
       "</style>\n",
       "<table border=\"1\" class=\"dataframe\">\n",
       "  <thead>\n",
       "    <tr style=\"text-align: right;\">\n",
       "      <th></th>\n",
       "      <th>1</th>\n",
       "      <th>2</th>\n",
       "      <th>3</th>\n",
       "      <th>Target</th>\n",
       "    </tr>\n",
       "  </thead>\n",
       "  <tbody>\n",
       "    <tr>\n",
       "      <th>0</th>\n",
       "      <td>0.60</td>\n",
       "      <td>0.31</td>\n",
       "      <td>13.0</td>\n",
       "      <td>False</td>\n",
       "    </tr>\n",
       "    <tr>\n",
       "      <th>1</th>\n",
       "      <td>0.74</td>\n",
       "      <td>0.33</td>\n",
       "      <td>21.0</td>\n",
       "      <td>False</td>\n",
       "    </tr>\n",
       "    <tr>\n",
       "      <th>2</th>\n",
       "      <td>0.54</td>\n",
       "      <td>0.19</td>\n",
       "      <td>NaN</td>\n",
       "      <td>True</td>\n",
       "    </tr>\n",
       "    <tr>\n",
       "      <th>3</th>\n",
       "      <td>0.46</td>\n",
       "      <td>NaN</td>\n",
       "      <td>9.0</td>\n",
       "      <td>False</td>\n",
       "    </tr>\n",
       "    <tr>\n",
       "      <th>4</th>\n",
       "      <td>0.77</td>\n",
       "      <td>0.15</td>\n",
       "      <td>15.0</td>\n",
       "      <td>True</td>\n",
       "    </tr>\n",
       "  </tbody>\n",
       "</table>\n",
       "</div>"
      ],
      "text/plain": [
       "      1     2     3 Target\n",
       "0  0.60  0.31  13.0  False\n",
       "1  0.74  0.33  21.0  False\n",
       "2  0.54  0.19   NaN   True\n",
       "3  0.46   NaN   9.0  False\n",
       "4  0.77  0.15  15.0   True"
      ]
     },
     "execution_count": 3,
     "metadata": {},
     "output_type": "execute_result"
    }
   ],
   "source": [
    "train.head()"
   ]
  },
  {
   "cell_type": "code",
   "execution_count": 72,
   "metadata": {},
   "outputs": [
    {
     "data": {
      "text/plain": [
       "0    1557\n",
       "1     420\n",
       "Name: Target, dtype: int64"
      ]
     },
     "execution_count": 72,
     "metadata": {},
     "output_type": "execute_result"
    }
   ],
   "source": [
    "train['Target'].value_counts()"
   ]
  },
  {
   "cell_type": "code",
   "execution_count": 78,
   "metadata": {},
   "outputs": [
    {
     "name": "stdout",
     "output_type": "stream",
     "text": [
      "21.2443095599393\n"
     ]
    }
   ],
   "source": [
    "print(train['Target'].sum()/len(train.Target)*100)\n"
   ]
  },
  {
   "cell_type": "markdown",
   "metadata": {},
   "source": [
    "# The Data Is Truly Imbalanced"
   ]
  },
  {
   "cell_type": "code",
   "execution_count": 26,
   "metadata": {},
   "outputs": [
    {
     "data": {
      "text/html": [
       "<div>\n",
       "<style scoped>\n",
       "    .dataframe tbody tr th:only-of-type {\n",
       "        vertical-align: middle;\n",
       "    }\n",
       "\n",
       "    .dataframe tbody tr th {\n",
       "        vertical-align: top;\n",
       "    }\n",
       "\n",
       "    .dataframe thead th {\n",
       "        text-align: right;\n",
       "    }\n",
       "</style>\n",
       "<table border=\"1\" class=\"dataframe\">\n",
       "  <thead>\n",
       "    <tr style=\"text-align: right;\">\n",
       "      <th></th>\n",
       "      <th>1</th>\n",
       "      <th>2</th>\n",
       "      <th>3</th>\n",
       "    </tr>\n",
       "  </thead>\n",
       "  <tbody>\n",
       "    <tr>\n",
       "      <th>0</th>\n",
       "      <td>0.74</td>\n",
       "      <td>0.21</td>\n",
       "      <td>22.0</td>\n",
       "    </tr>\n",
       "    <tr>\n",
       "      <th>1</th>\n",
       "      <td>0.43</td>\n",
       "      <td>0.15</td>\n",
       "      <td>14.0</td>\n",
       "    </tr>\n",
       "    <tr>\n",
       "      <th>2</th>\n",
       "      <td>0.77</td>\n",
       "      <td>0.10</td>\n",
       "      <td>15.0</td>\n",
       "    </tr>\n",
       "    <tr>\n",
       "      <th>3</th>\n",
       "      <td>0.57</td>\n",
       "      <td>0.31</td>\n",
       "      <td>15.0</td>\n",
       "    </tr>\n",
       "    <tr>\n",
       "      <th>4</th>\n",
       "      <td>0.80</td>\n",
       "      <td>0.31</td>\n",
       "      <td>20.0</td>\n",
       "    </tr>\n",
       "  </tbody>\n",
       "</table>\n",
       "</div>"
      ],
      "text/plain": [
       "      1     2     3\n",
       "0  0.74  0.21  22.0\n",
       "1  0.43  0.15  14.0\n",
       "2  0.77  0.10  15.0\n",
       "3  0.57  0.31  15.0\n",
       "4  0.80  0.31  20.0"
      ]
     },
     "execution_count": 26,
     "metadata": {},
     "output_type": "execute_result"
    }
   ],
   "source": [
    "test.head()"
   ]
  },
  {
   "cell_type": "code",
   "execution_count": 4,
   "metadata": {},
   "outputs": [
    {
     "name": "stdout",
     "output_type": "stream",
     "text": [
      "<class 'pandas.core.frame.DataFrame'>\n",
      "RangeIndex: 1995 entries, 0 to 1994\n",
      "Data columns (total 4 columns):\n",
      "1         1992 non-null float64\n",
      "2         1992 non-null float64\n",
      "3         1993 non-null float64\n",
      "Target    1984 non-null object\n",
      "dtypes: float64(3), object(1)\n",
      "memory usage: 62.4+ KB\n"
     ]
    }
   ],
   "source": [
    "train.info()"
   ]
  },
  {
   "cell_type": "code",
   "execution_count": 5,
   "metadata": {},
   "outputs": [
    {
     "name": "stdout",
     "output_type": "stream",
     "text": [
      "<class 'pandas.core.frame.DataFrame'>\n",
      "RangeIndex: 855 entries, 0 to 854\n",
      "Data columns (total 3 columns):\n",
      "1    851 non-null float64\n",
      "2    850 non-null float64\n",
      "3    851 non-null float64\n",
      "dtypes: float64(3)\n",
      "memory usage: 20.1 KB\n"
     ]
    }
   ],
   "source": [
    "test.info()"
   ]
  },
  {
   "cell_type": "markdown",
   "metadata": {},
   "source": [
    "Drop Null values as there were only few."
   ]
  },
  {
   "cell_type": "code",
   "execution_count": 6,
   "metadata": {},
   "outputs": [],
   "source": [
    "train.dropna(axis=0, how='any', thresh=None, subset=None, inplace=True)"
   ]
  },
  {
   "cell_type": "markdown",
   "metadata": {},
   "source": [
    "Label Encoding to convert string/boolean to integer"
   ]
  },
  {
   "cell_type": "code",
   "execution_count": 7,
   "metadata": {},
   "outputs": [
    {
     "data": {
      "text/plain": [
       "array([0, 1], dtype=int64)"
      ]
     },
     "execution_count": 7,
     "metadata": {},
     "output_type": "execute_result"
    }
   ],
   "source": [
    "from sklearn import preprocessing \n",
    "label_encoder = preprocessing.LabelEncoder()  \n",
    "train['Target']= label_encoder.fit_transform(train['Target']) \n",
    "train['Target'].unique() "
   ]
  },
  {
   "cell_type": "markdown",
   "metadata": {},
   "source": [
    "Creating a base model before applying to real test data"
   ]
  },
  {
   "cell_type": "code",
   "execution_count": 8,
   "metadata": {},
   "outputs": [],
   "source": [
    "X=train.iloc[:,:-1]\n",
    "y=train.loc[:,'Target']"
   ]
  },
  {
   "cell_type": "code",
   "execution_count": 9,
   "metadata": {},
   "outputs": [],
   "source": [
    "X_train,X_test,y_train,y_test=train_test_split(X,y,test_size=0.3,random_state=0)"
   ]
  },
  {
   "cell_type": "markdown",
   "metadata": {},
   "source": [
    "Setting up a pipeline "
   ]
  },
  {
   "cell_type": "code",
   "execution_count": 10,
   "metadata": {},
   "outputs": [],
   "source": [
    "pipeline_Lr=Pipeline([('scalar',StandardScaler()),('Lr',LogisticRegression())])"
   ]
  },
  {
   "cell_type": "code",
   "execution_count": 11,
   "metadata": {},
   "outputs": [],
   "source": [
    "pipeline_Dt=Pipeline([('Dt',DecisionTreeClassifier())])"
   ]
  },
  {
   "cell_type": "code",
   "execution_count": 12,
   "metadata": {},
   "outputs": [],
   "source": [
    "pipeline_Rf=Pipeline([('Rf',RandomForestClassifier())])"
   ]
  },
  {
   "cell_type": "code",
   "execution_count": 13,
   "metadata": {},
   "outputs": [],
   "source": [
    "pipeline_Xg=Pipeline([('Xg',XGBClassifier())])"
   ]
  },
  {
   "cell_type": "code",
   "execution_count": 14,
   "metadata": {},
   "outputs": [],
   "source": [
    "pipelines = [pipeline_Lr, pipeline_Dt, pipeline_Rf,pipeline_Xg]"
   ]
  },
  {
   "cell_type": "code",
   "execution_count": 15,
   "metadata": {},
   "outputs": [],
   "source": [
    "best_accuracy=0.0\n",
    "best_classifier=0\n",
    "best_pipeline=\"\""
   ]
  },
  {
   "cell_type": "code",
   "execution_count": 16,
   "metadata": {},
   "outputs": [
    {
     "name": "stderr",
     "output_type": "stream",
     "text": [
      "C:\\Users\\akash\\AppData\\Local\\Continuum\\anaconda3\\lib\\site-packages\\sklearn\\linear_model\\logistic.py:432: FutureWarning: Default solver will be changed to 'lbfgs' in 0.22. Specify a solver to silence this warning.\n",
      "  FutureWarning)\n",
      "C:\\Users\\akash\\AppData\\Local\\Continuum\\anaconda3\\lib\\site-packages\\sklearn\\ensemble\\forest.py:245: FutureWarning: The default value of n_estimators will change from 10 in version 0.20 to 100 in 0.22.\n",
      "  \"10 in version 0.20 to 100 in 0.22.\", FutureWarning)\n"
     ]
    }
   ],
   "source": [
    "pipe_dict = {0: 'Logistic Regression', 1: 'Decision Tree', 2: 'RandomForest', 3: 'XGB'}\n",
    "\n",
    "# Fit the pipelines\n",
    "for pipe in pipelines:\n",
    "    pipe.fit(X_train, y_train)"
   ]
  },
  {
   "cell_type": "code",
   "execution_count": 17,
   "metadata": {},
   "outputs": [
    {
     "name": "stdout",
     "output_type": "stream",
     "text": [
      "Logistic Regression Train Accuracy: 0.7903109182935647\n",
      "Decision Tree Train Accuracy: 1.0\n",
      "RandomForest Train Accuracy: 1.0\n",
      "XGB Train Accuracy: 0.9992769342010123\n"
     ]
    }
   ],
   "source": [
    "for i,model in enumerate(pipelines):\n",
    "    print(\"{} Train Accuracy: {}\".format(pipe_dict[i],model.score(X_train,y_train)))"
   ]
  },
  {
   "cell_type": "code",
   "execution_count": 18,
   "metadata": {},
   "outputs": [
    {
     "name": "stdout",
     "output_type": "stream",
     "text": [
      "Logistic Regression Test Accuracy: 0.7777777777777778\n",
      "Decision Tree Test Accuracy: 0.9511784511784511\n",
      "RandomForest Test Accuracy: 0.9545454545454546\n",
      "XGB Test Accuracy: 0.9629629629629629\n"
     ]
    }
   ],
   "source": [
    "for i,model in enumerate(pipelines):\n",
    "    print(\"{} Test Accuracy: {}\".format(pipe_dict[i],model.score(X_test,y_test)))"
   ]
  },
  {
   "cell_type": "code",
   "execution_count": 19,
   "metadata": {},
   "outputs": [
    {
     "name": "stdout",
     "output_type": "stream",
     "text": [
      "Classifier with best accuracy : XGB\n"
     ]
    }
   ],
   "source": [
    "for i,model in enumerate(pipelines):\n",
    "    if model.score(X_test,y_test)>best_accuracy:\n",
    "        best_accuracy=model.score(X_test,y_test)\n",
    "        best_pipeline=model\n",
    "        best_classifier=i\n",
    "print('Classifier with best accuracy : {}'.format(pipe_dict[best_classifier]))"
   ]
  },
  {
   "cell_type": "code",
   "execution_count": null,
   "metadata": {},
   "outputs": [],
   "source": []
  },
  {
   "cell_type": "code",
   "execution_count": 71,
   "metadata": {},
   "outputs": [
    {
     "name": "stdout",
     "output_type": "stream",
     "text": [
      "[[461   1]\n",
      " [ 40  92]]\n",
      "              precision    recall  f1-score   support\n",
      "\n",
      "           0       0.92      1.00      0.96       462\n",
      "           1       0.99      0.70      0.82       132\n",
      "\n",
      "    accuracy                           0.93       594\n",
      "   macro avg       0.95      0.85      0.89       594\n",
      "weighted avg       0.94      0.93      0.93       594\n",
      "\n"
     ]
    }
   ],
   "source": [
    "print(metrics.confusion_matrix(y_test, y_predict))\n",
    "print(metrics.classification_report(y_test, y_predict))\n"
   ]
  },
  {
   "cell_type": "markdown",
   "metadata": {},
   "source": [
    "Predicting Test data"
   ]
  },
  {
   "cell_type": "code",
   "execution_count": 20,
   "metadata": {},
   "outputs": [],
   "source": [
    "Xgb_Pred = pipeline_Xg.predict(test)"
   ]
  },
  {
   "cell_type": "code",
   "execution_count": 21,
   "metadata": {},
   "outputs": [
    {
     "data": {
      "text/plain": [
       "array([0, 0, 1, 0, 0, 0, 0, 0, 0, 0, 0, 0, 0, 0, 0, 1, 0, 0, 0, 0, 0, 1,\n",
       "       0, 0, 0, 0, 1, 0, 0, 0, 0, 0, 0, 0, 0, 0, 1, 0, 0, 0, 0, 1, 0, 0,\n",
       "       0, 0, 1, 0, 0, 0, 0, 1, 0, 1, 1, 0, 0, 0, 0, 0, 0, 0, 0, 0, 1, 0,\n",
       "       0, 0, 0, 0, 0, 1, 1, 1, 0, 0, 0, 0, 1, 1, 0, 0, 0, 0, 1, 1, 1, 0,\n",
       "       0, 0, 0, 0, 0, 0, 0, 0, 1, 1, 0, 1, 0, 0, 0, 1, 0, 0, 0, 0, 1, 0,\n",
       "       0, 0, 1, 0, 0, 0, 0, 0, 0, 0, 0, 1, 0, 0, 0, 1, 1, 0, 0, 0, 0, 0,\n",
       "       0, 0, 0, 0, 0, 0, 0, 1, 1, 0, 1, 0, 0, 0, 0, 0, 0, 0, 0, 0, 1, 1,\n",
       "       0, 1, 0, 0, 1, 0, 0, 0, 0, 0, 0, 0, 0, 0, 0, 0, 1, 0, 0, 0, 0, 1,\n",
       "       1, 1, 0, 0, 0, 1, 0, 0, 1, 0, 0, 0, 0, 0, 0, 0, 0, 0, 0, 0, 0, 0,\n",
       "       1, 0, 0, 0, 0, 0, 0, 0, 0, 0, 0, 0, 0, 0, 0, 0, 0, 1, 1, 0, 0, 1,\n",
       "       0, 1, 0, 0, 0, 0, 0, 0, 0, 0, 0, 0, 0, 0, 1, 0, 0, 0, 1, 0, 1, 0,\n",
       "       0, 0, 0, 1, 0, 0, 0, 1, 0, 0, 0, 1, 0, 0, 0, 0, 0, 0, 1, 0, 0, 1,\n",
       "       1, 0, 0, 0, 0, 0, 0, 0, 1, 0, 0, 0, 0, 1, 0, 0, 0, 0, 0, 0, 0, 1,\n",
       "       0, 0, 0, 0, 0, 0, 0, 0, 1, 0, 0, 1, 0, 0, 1, 0, 0, 0, 0, 0, 0, 0,\n",
       "       1, 0, 0, 1, 1, 0, 0, 1, 0, 0, 0, 0, 0, 0, 0, 0, 1, 0, 0, 0, 0, 0,\n",
       "       0, 1, 1, 0, 0, 0, 0, 1, 0, 0, 0, 0, 1, 0, 0, 0, 0, 1, 0, 0, 0, 0,\n",
       "       1, 0, 0, 0, 0, 1, 0, 1, 0, 0, 0, 0, 0, 0, 1, 0, 0, 0, 0, 0, 0, 0,\n",
       "       1, 0, 1, 0, 0, 1, 0, 0, 0, 0, 0, 0, 0, 0, 0, 0, 0, 0, 0, 0, 0, 0,\n",
       "       1, 1, 1, 0, 0, 0, 0, 0, 0, 0, 0, 1, 0, 1, 0, 0, 0, 1, 0, 1, 0, 1,\n",
       "       0, 1, 1, 1, 0, 0, 0, 0, 0, 0, 1, 0, 0, 0, 0, 0, 1, 0, 0, 0, 0, 0,\n",
       "       1, 0, 0, 0, 0, 0, 0, 0, 0, 0, 0, 0, 1, 0, 0, 1, 0, 0, 1, 0, 1, 0,\n",
       "       0, 0, 0, 0, 1, 0, 0, 0, 1, 0, 1, 0, 0, 1, 0, 0, 0, 1, 0, 0, 0, 0,\n",
       "       0, 0, 0, 1, 0, 0, 0, 0, 0, 0, 0, 1, 0, 0, 0, 0, 0, 0, 0, 1, 0, 1,\n",
       "       0, 0, 0, 1, 1, 1, 0, 0, 1, 0, 1, 0, 0, 0, 0, 0, 0, 0, 0, 0, 0, 0,\n",
       "       0, 0, 0, 1, 0, 1, 0, 0, 0, 0, 0, 1, 0, 0, 0, 0, 1, 0, 0, 0, 0, 0,\n",
       "       0, 0, 0, 0, 0, 0, 1, 0, 1, 0, 0, 0, 0, 1, 0, 0, 0, 0, 0, 0, 0, 0,\n",
       "       0, 0, 1, 0, 1, 0, 0, 1, 0, 1, 0, 0, 1, 0, 0, 0, 0, 0, 0, 0, 0, 1,\n",
       "       0, 0, 0, 0, 1, 1, 0, 0, 0, 0, 0, 0, 0, 0, 0, 0, 0, 0, 0, 0, 1, 0,\n",
       "       0, 0, 0, 0, 1, 0, 0, 0, 0, 0, 0, 0, 0, 0, 0, 0, 0, 1, 0, 1, 0, 0,\n",
       "       1, 0, 0, 0, 0, 1, 0, 0, 0, 1, 0, 1, 1, 0, 0, 0, 0, 1, 0, 0, 0, 1,\n",
       "       1, 0, 1, 0, 0, 0, 0, 0, 0, 0, 0, 0, 0, 0, 1, 0, 0, 0, 0, 0, 0, 0,\n",
       "       0, 0, 0, 0, 0, 1, 1, 0, 0, 1, 0, 0, 1, 1, 1, 0, 0, 1, 0, 0, 1, 0,\n",
       "       1, 0, 0, 1, 0, 0, 1, 0, 1, 1, 0, 0, 0, 1, 0, 0, 0, 0, 0, 0, 0, 0,\n",
       "       1, 0, 0, 0, 0, 0, 0, 0, 0, 0, 0, 0, 0, 0, 1, 0, 0, 0, 1, 1, 0, 1,\n",
       "       0, 1, 0, 0, 0, 0, 0, 0, 0, 0, 0, 0, 0, 1, 0, 0, 0, 0, 0, 0, 0, 0,\n",
       "       0, 0, 0, 1, 0, 0, 0, 0, 0, 0, 0, 0, 1, 0, 0, 0, 0, 0, 0, 0, 1, 0,\n",
       "       0, 1, 1, 0, 0, 1, 0, 0, 0, 1, 0, 0, 0, 0, 0, 1, 0, 0, 1, 0, 0, 0,\n",
       "       0, 0, 0, 0, 0, 0, 1, 0, 1, 0, 1, 0, 0, 0, 0, 0, 0, 0, 0, 0, 0, 1,\n",
       "       0, 0, 0, 1, 1, 0, 1, 1, 1, 0, 1, 0, 0, 1, 0, 1, 0, 0, 0])"
      ]
     },
     "execution_count": 21,
     "metadata": {},
     "output_type": "execute_result"
    }
   ],
   "source": [
    "Xgb_Pred"
   ]
  },
  {
   "cell_type": "code",
   "execution_count": 25,
   "metadata": {},
   "outputs": [
    {
     "data": {
      "text/plain": [
       "array(['False', 'False', 'True', 'False', 'False', 'False', 'False',\n",
       "       'False', 'False', 'False', 'False', 'False', 'False', 'False',\n",
       "       'False', 'True', 'False', 'False', 'False', 'False', 'False',\n",
       "       'True', 'False', 'False', 'False', 'False', 'True', 'False',\n",
       "       'False', 'False', 'False', 'False', 'False', 'False', 'False',\n",
       "       'False', 'True', 'False', 'False', 'False', 'False', 'True',\n",
       "       'False', 'False', 'False', 'False', 'True', 'False', 'False',\n",
       "       'False', 'False', 'True', 'False', 'True', 'True', 'False',\n",
       "       'False', 'False', 'False', 'False', 'False', 'False', 'False',\n",
       "       'False', 'True', 'False', 'False', 'False', 'False', 'False',\n",
       "       'False', 'True', 'True', 'True', 'False', 'False', 'False',\n",
       "       'False', 'True', 'True', 'False', 'False', 'False', 'False',\n",
       "       'True', 'True', 'True', 'False', 'False', 'False', 'False',\n",
       "       'False', 'False', 'False', 'False', 'False', 'True', 'True',\n",
       "       'False', 'True', 'False', 'False', 'False', 'True', 'False',\n",
       "       'False', 'False', 'False', 'True', 'False', 'False', 'False',\n",
       "       'True', 'False', 'False', 'False', 'False', 'False', 'False',\n",
       "       'False', 'False', 'True', 'False', 'False', 'False', 'True',\n",
       "       'True', 'False', 'False', 'False', 'False', 'False', 'False',\n",
       "       'False', 'False', 'False', 'False', 'False', 'False', 'True',\n",
       "       'True', 'False', 'True', 'False', 'False', 'False', 'False',\n",
       "       'False', 'False', 'False', 'False', 'False', 'True', 'True',\n",
       "       'False', 'True', 'False', 'False', 'True', 'False', 'False',\n",
       "       'False', 'False', 'False', 'False', 'False', 'False', 'False',\n",
       "       'False', 'False', 'True', 'False', 'False', 'False', 'False',\n",
       "       'True', 'True', 'True', 'False', 'False', 'False', 'True', 'False',\n",
       "       'False', 'True', 'False', 'False', 'False', 'False', 'False',\n",
       "       'False', 'False', 'False', 'False', 'False', 'False', 'False',\n",
       "       'False', 'True', 'False', 'False', 'False', 'False', 'False',\n",
       "       'False', 'False', 'False', 'False', 'False', 'False', 'False',\n",
       "       'False', 'False', 'False', 'False', 'True', 'True', 'False',\n",
       "       'False', 'True', 'False', 'True', 'False', 'False', 'False',\n",
       "       'False', 'False', 'False', 'False', 'False', 'False', 'False',\n",
       "       'False', 'False', 'True', 'False', 'False', 'False', 'True',\n",
       "       'False', 'True', 'False', 'False', 'False', 'False', 'True',\n",
       "       'False', 'False', 'False', 'True', 'False', 'False', 'False',\n",
       "       'True', 'False', 'False', 'False', 'False', 'False', 'False',\n",
       "       'True', 'False', 'False', 'True', 'True', 'False', 'False',\n",
       "       'False', 'False', 'False', 'False', 'False', 'True', 'False',\n",
       "       'False', 'False', 'False', 'True', 'False', 'False', 'False',\n",
       "       'False', 'False', 'False', 'False', 'True', 'False', 'False',\n",
       "       'False', 'False', 'False', 'False', 'False', 'False', 'True',\n",
       "       'False', 'False', 'True', 'False', 'False', 'True', 'False',\n",
       "       'False', 'False', 'False', 'False', 'False', 'False', 'True',\n",
       "       'False', 'False', 'True', 'True', 'False', 'False', 'True',\n",
       "       'False', 'False', 'False', 'False', 'False', 'False', 'False',\n",
       "       'False', 'True', 'False', 'False', 'False', 'False', 'False',\n",
       "       'False', 'True', 'True', 'False', 'False', 'False', 'False',\n",
       "       'True', 'False', 'False', 'False', 'False', 'True', 'False',\n",
       "       'False', 'False', 'False', 'True', 'False', 'False', 'False',\n",
       "       'False', 'True', 'False', 'False', 'False', 'False', 'True',\n",
       "       'False', 'True', 'False', 'False', 'False', 'False', 'False',\n",
       "       'False', 'True', 'False', 'False', 'False', 'False', 'False',\n",
       "       'False', 'False', 'True', 'False', 'True', 'False', 'False',\n",
       "       'True', 'False', 'False', 'False', 'False', 'False', 'False',\n",
       "       'False', 'False', 'False', 'False', 'False', 'False', 'False',\n",
       "       'False', 'False', 'False', 'True', 'True', 'True', 'False',\n",
       "       'False', 'False', 'False', 'False', 'False', 'False', 'False',\n",
       "       'True', 'False', 'True', 'False', 'False', 'False', 'True',\n",
       "       'False', 'True', 'False', 'True', 'False', 'True', 'True', 'True',\n",
       "       'False', 'False', 'False', 'False', 'False', 'False', 'True',\n",
       "       'False', 'False', 'False', 'False', 'False', 'True', 'False',\n",
       "       'False', 'False', 'False', 'False', 'True', 'False', 'False',\n",
       "       'False', 'False', 'False', 'False', 'False', 'False', 'False',\n",
       "       'False', 'False', 'True', 'False', 'False', 'True', 'False',\n",
       "       'False', 'True', 'False', 'True', 'False', 'False', 'False',\n",
       "       'False', 'False', 'True', 'False', 'False', 'False', 'True',\n",
       "       'False', 'True', 'False', 'False', 'True', 'False', 'False',\n",
       "       'False', 'True', 'False', 'False', 'False', 'False', 'False',\n",
       "       'False', 'False', 'True', 'False', 'False', 'False', 'False',\n",
       "       'False', 'False', 'False', 'True', 'False', 'False', 'False',\n",
       "       'False', 'False', 'False', 'False', 'True', 'False', 'True',\n",
       "       'False', 'False', 'False', 'True', 'True', 'True', 'False',\n",
       "       'False', 'True', 'False', 'True', 'False', 'False', 'False',\n",
       "       'False', 'False', 'False', 'False', 'False', 'False', 'False',\n",
       "       'False', 'False', 'False', 'False', 'True', 'False', 'True',\n",
       "       'False', 'False', 'False', 'False', 'False', 'True', 'False',\n",
       "       'False', 'False', 'False', 'True', 'False', 'False', 'False',\n",
       "       'False', 'False', 'False', 'False', 'False', 'False', 'False',\n",
       "       'False', 'True', 'False', 'True', 'False', 'False', 'False',\n",
       "       'False', 'True', 'False', 'False', 'False', 'False', 'False',\n",
       "       'False', 'False', 'False', 'False', 'False', 'True', 'False',\n",
       "       'True', 'False', 'False', 'True', 'False', 'True', 'False',\n",
       "       'False', 'True', 'False', 'False', 'False', 'False', 'False',\n",
       "       'False', 'False', 'False', 'True', 'False', 'False', 'False',\n",
       "       'False', 'True', 'True', 'False', 'False', 'False', 'False',\n",
       "       'False', 'False', 'False', 'False', 'False', 'False', 'False',\n",
       "       'False', 'False', 'False', 'True', 'False', 'False', 'False',\n",
       "       'False', 'False', 'True', 'False', 'False', 'False', 'False',\n",
       "       'False', 'False', 'False', 'False', 'False', 'False', 'False',\n",
       "       'False', 'True', 'False', 'True', 'False', 'False', 'True',\n",
       "       'False', 'False', 'False', 'False', 'True', 'False', 'False',\n",
       "       'False', 'True', 'False', 'True', 'True', 'False', 'False',\n",
       "       'False', 'False', 'True', 'False', 'False', 'False', 'True',\n",
       "       'True', 'False', 'True', 'False', 'False', 'False', 'False',\n",
       "       'False', 'False', 'False', 'False', 'False', 'False', 'False',\n",
       "       'True', 'False', 'False', 'False', 'False', 'False', 'False',\n",
       "       'False', 'False', 'False', 'False', 'False', 'False', 'True',\n",
       "       'True', 'False', 'False', 'True', 'False', 'False', 'True', 'True',\n",
       "       'True', 'False', 'False', 'True', 'False', 'False', 'True',\n",
       "       'False', 'True', 'False', 'False', 'True', 'False', 'False',\n",
       "       'True', 'False', 'True', 'True', 'False', 'False', 'False', 'True',\n",
       "       'False', 'False', 'False', 'False', 'False', 'False', 'False',\n",
       "       'False', 'True', 'False', 'False', 'False', 'False', 'False',\n",
       "       'False', 'False', 'False', 'False', 'False', 'False', 'False',\n",
       "       'False', 'True', 'False', 'False', 'False', 'True', 'True',\n",
       "       'False', 'True', 'False', 'True', 'False', 'False', 'False',\n",
       "       'False', 'False', 'False', 'False', 'False', 'False', 'False',\n",
       "       'False', 'True', 'False', 'False', 'False', 'False', 'False',\n",
       "       'False', 'False', 'False', 'False', 'False', 'False', 'True',\n",
       "       'False', 'False', 'False', 'False', 'False', 'False', 'False',\n",
       "       'False', 'True', 'False', 'False', 'False', 'False', 'False',\n",
       "       'False', 'False', 'True', 'False', 'False', 'True', 'True',\n",
       "       'False', 'False', 'True', 'False', 'False', 'False', 'True',\n",
       "       'False', 'False', 'False', 'False', 'False', 'True', 'False',\n",
       "       'False', 'True', 'False', 'False', 'False', 'False', 'False',\n",
       "       'False', 'False', 'False', 'False', 'True', 'False', 'True',\n",
       "       'False', 'True', 'False', 'False', 'False', 'False', 'False',\n",
       "       'False', 'False', 'False', 'False', 'False', 'True', 'False',\n",
       "       'False', 'False', 'True', 'True', 'False', 'True', 'True', 'True',\n",
       "       'False', 'True', 'False', 'False', 'True', 'False', 'True',\n",
       "       'False', 'False', 'False'], dtype='<U5')"
      ]
     },
     "execution_count": 25,
     "metadata": {},
     "output_type": "execute_result"
    }
   ],
   "source": [
    "np.where(Xgb_Pred==1,'True','False')"
   ]
  },
  {
   "cell_type": "code",
   "execution_count": 28,
   "metadata": {},
   "outputs": [],
   "source": [
    "sub = pd.DataFrame({'1' : test['1'],\n",
    "                    '2' : test['2'],\n",
    "                    '3' : test['3'],\n",
    "                   'Target': Xgb_Pred})\n",
    "sub.to_csv('submission_Xgb_classification.csv', index=False)"
   ]
  },
  {
   "cell_type": "code",
   "execution_count": null,
   "metadata": {},
   "outputs": [],
   "source": []
  },
  {
   "cell_type": "code",
   "execution_count": 38,
   "metadata": {},
   "outputs": [],
   "source": [
    "estimator = XGBClassifier(\n",
    "    objective= 'binary:logistic',\n",
    "    nthread=4,\n",
    "    seed=42\n",
    ")"
   ]
  },
  {
   "cell_type": "code",
   "execution_count": 48,
   "metadata": {},
   "outputs": [],
   "source": [
    "params = {\n",
    "        'min_child_weight': [1, 5, 10],\n",
    "        'gamma': [0.5, 1, 1.5, 2, 5],\n",
    "        'subsample': [0.6, 0.8, 1.0],\n",
    "        'colsample_bytree': [0.6, 0.8, 1.0],\n",
    "        'max_depth': [3, 4, 5],\n",
    "   'n_estimators': range(60, 180, 40),\n",
    "    'learning_rate': [0.1, 0.01, 0.05]\n",
    "        }"
   ]
  },
  {
   "cell_type": "code",
   "execution_count": null,
   "metadata": {},
   "outputs": [],
   "source": []
  },
  {
   "cell_type": "code",
   "execution_count": 49,
   "metadata": {},
   "outputs": [],
   "source": [
    "grid_search = GridSearchCV(\n",
    "    estimator=estimator,\n",
    "    param_grid=params,\n",
    "    scoring = 'roc_auc',\n",
    "    n_jobs = 5,\n",
    "    cv = 5,\n",
    "    verbose=True\n",
    ")"
   ]
  },
  {
   "cell_type": "code",
   "execution_count": 50,
   "metadata": {},
   "outputs": [
    {
     "name": "stdout",
     "output_type": "stream",
     "text": [
      "Fitting 5 folds for each of 3645 candidates, totalling 18225 fits\n"
     ]
    },
    {
     "name": "stderr",
     "output_type": "stream",
     "text": [
      "[Parallel(n_jobs=5)]: Using backend LokyBackend with 5 concurrent workers.\n",
      "[Parallel(n_jobs=5)]: Done  40 tasks      | elapsed:    9.0s\n",
      "[Parallel(n_jobs=5)]: Done 190 tasks      | elapsed:   17.6s\n",
      "[Parallel(n_jobs=5)]: Done 440 tasks      | elapsed:   29.5s\n",
      "[Parallel(n_jobs=5)]: Done 790 tasks      | elapsed:   45.5s\n",
      "[Parallel(n_jobs=5)]: Done 1240 tasks      | elapsed:  1.1min\n",
      "[Parallel(n_jobs=5)]: Done 1790 tasks      | elapsed:  1.5min\n",
      "[Parallel(n_jobs=5)]: Done 2440 tasks      | elapsed:  2.0min\n",
      "[Parallel(n_jobs=5)]: Done 3190 tasks      | elapsed:  2.6min\n",
      "[Parallel(n_jobs=5)]: Done 4040 tasks      | elapsed:  3.3min\n",
      "[Parallel(n_jobs=5)]: Done 4990 tasks      | elapsed:  4.2min\n",
      "[Parallel(n_jobs=5)]: Done 6040 tasks      | elapsed:  5.0min\n",
      "[Parallel(n_jobs=5)]: Done 7190 tasks      | elapsed:  6.0min\n",
      "[Parallel(n_jobs=5)]: Done 8440 tasks      | elapsed:  7.0min\n",
      "[Parallel(n_jobs=5)]: Done 9790 tasks      | elapsed:  8.2min\n",
      "[Parallel(n_jobs=5)]: Done 11240 tasks      | elapsed:  9.4min\n",
      "[Parallel(n_jobs=5)]: Done 12790 tasks      | elapsed: 10.8min\n",
      "[Parallel(n_jobs=5)]: Done 14440 tasks      | elapsed: 12.3min\n",
      "[Parallel(n_jobs=5)]: Done 16190 tasks      | elapsed: 13.9min\n",
      "[Parallel(n_jobs=5)]: Done 18040 tasks      | elapsed: 15.4min\n",
      "[Parallel(n_jobs=5)]: Done 18225 out of 18225 | elapsed: 15.6min finished\n"
     ]
    },
    {
     "data": {
      "text/plain": [
       "GridSearchCV(cv=5, error_score='raise-deprecating',\n",
       "             estimator=XGBClassifier(base_score=None, booster=None,\n",
       "                                     colsample_bylevel=None,\n",
       "                                     colsample_bynode=None,\n",
       "                                     colsample_bytree=None, gamma=None,\n",
       "                                     gpu_id=None, importance_type='gain',\n",
       "                                     interaction_constraints=None,\n",
       "                                     learning_rate=None, max_delta_step=None,\n",
       "                                     max_depth=None, min_child_weight=None,\n",
       "                                     missing=nan, monotone_constrai...\n",
       "                                     validate_parameters=False,\n",
       "                                     verbosity=None),\n",
       "             iid='warn', n_jobs=5,\n",
       "             param_grid={'colsample_bytree': [0.6, 0.8, 1.0],\n",
       "                         'gamma': [0.5, 1, 1.5, 2, 5],\n",
       "                         'learning_rate': [0.1, 0.01, 0.05],\n",
       "                         'max_depth': [3, 4, 5], 'min_child_weight': [1, 5, 10],\n",
       "                         'n_estimators': range(60, 180, 40),\n",
       "                         'subsample': [0.6, 0.8, 1.0]},\n",
       "             pre_dispatch='2*n_jobs', refit=True, return_train_score=False,\n",
       "             scoring='roc_auc', verbose=True)"
      ]
     },
     "execution_count": 50,
     "metadata": {},
     "output_type": "execute_result"
    }
   ],
   "source": [
    "grid_search.fit(X_train, y_train)"
   ]
  },
  {
   "cell_type": "code",
   "execution_count": 51,
   "metadata": {},
   "outputs": [
    {
     "data": {
      "text/plain": [
       "XGBClassifier(base_score=0.5, booster=None, colsample_bylevel=1,\n",
       "              colsample_bynode=1, colsample_bytree=1.0, gamma=0.5, gpu_id=-1,\n",
       "              importance_type='gain', interaction_constraints=None,\n",
       "              learning_rate=0.1, max_delta_step=0, max_depth=5,\n",
       "              min_child_weight=1, missing=nan, monotone_constraints=None,\n",
       "              n_estimators=140, n_jobs=4, nthread=4, num_parallel_tree=1,\n",
       "              objective='binary:logistic', random_state=42, reg_alpha=0,\n",
       "              reg_lambda=1, scale_pos_weight=1, seed=42, subsample=0.6,\n",
       "              tree_method=None, validate_parameters=False, verbosity=None)"
      ]
     },
     "execution_count": 51,
     "metadata": {},
     "output_type": "execute_result"
    }
   ],
   "source": [
    "grid_search.best_estimator_"
   ]
  },
  {
   "cell_type": "code",
   "execution_count": 52,
   "metadata": {},
   "outputs": [],
   "source": [
    "tunned_xgb = grid_search.score(X_test,y_test)"
   ]
  },
  {
   "cell_type": "code",
   "execution_count": 53,
   "metadata": {},
   "outputs": [
    {
     "data": {
      "text/plain": [
       "0.9961629279811098"
      ]
     },
     "execution_count": 53,
     "metadata": {},
     "output_type": "execute_result"
    }
   ],
   "source": [
    "tunned_xgb"
   ]
  },
  {
   "cell_type": "code",
   "execution_count": 55,
   "metadata": {},
   "outputs": [],
   "source": [
    "tunned_Xgb = grid_search.predict(test)"
   ]
  },
  {
   "cell_type": "code",
   "execution_count": 56,
   "metadata": {},
   "outputs": [
    {
     "data": {
      "text/plain": [
       "array(['False', 'False', 'True', 'False', 'False', 'False', 'False',\n",
       "       'False', 'False', 'False', 'False', 'False', 'False', 'False',\n",
       "       'False', 'False', 'False', 'False', 'False', 'False', 'False',\n",
       "       'True', 'False', 'False', 'False', 'False', 'True', 'False',\n",
       "       'False', 'False', 'False', 'False', 'False', 'False', 'False',\n",
       "       'False', 'True', 'False', 'False', 'False', 'False', 'True',\n",
       "       'False', 'False', 'False', 'False', 'True', 'False', 'False',\n",
       "       'False', 'False', 'True', 'False', 'True', 'True', 'False',\n",
       "       'False', 'False', 'False', 'False', 'False', 'False', 'False',\n",
       "       'False', 'True', 'False', 'False', 'False', 'False', 'False',\n",
       "       'False', 'True', 'True', 'True', 'False', 'False', 'False',\n",
       "       'False', 'True', 'True', 'False', 'False', 'False', 'False',\n",
       "       'True', 'True', 'True', 'False', 'False', 'False', 'False',\n",
       "       'False', 'False', 'False', 'False', 'False', 'False', 'True',\n",
       "       'False', 'True', 'False', 'False', 'False', 'True', 'False',\n",
       "       'False', 'False', 'False', 'True', 'False', 'False', 'False',\n",
       "       'True', 'False', 'False', 'False', 'False', 'False', 'False',\n",
       "       'False', 'True', 'True', 'False', 'False', 'False', 'False',\n",
       "       'True', 'False', 'False', 'False', 'False', 'False', 'False',\n",
       "       'False', 'False', 'False', 'False', 'False', 'False', 'False',\n",
       "       'True', 'False', 'True', 'False', 'False', 'False', 'False',\n",
       "       'False', 'False', 'False', 'False', 'False', 'True', 'True',\n",
       "       'False', 'True', 'False', 'False', 'True', 'False', 'False',\n",
       "       'False', 'False', 'False', 'False', 'False', 'False', 'False',\n",
       "       'False', 'False', 'True', 'False', 'False', 'False', 'False',\n",
       "       'True', 'True', 'True', 'False', 'False', 'False', 'True', 'False',\n",
       "       'False', 'True', 'False', 'False', 'False', 'False', 'False',\n",
       "       'False', 'False', 'False', 'False', 'False', 'False', 'False',\n",
       "       'False', 'True', 'False', 'False', 'False', 'False', 'False',\n",
       "       'False', 'False', 'False', 'False', 'False', 'False', 'False',\n",
       "       'False', 'False', 'False', 'False', 'True', 'True', 'False',\n",
       "       'False', 'True', 'False', 'True', 'False', 'False', 'False',\n",
       "       'False', 'False', 'False', 'False', 'False', 'False', 'False',\n",
       "       'False', 'False', 'True', 'False', 'False', 'False', 'True',\n",
       "       'False', 'True', 'False', 'False', 'False', 'False', 'True',\n",
       "       'False', 'False', 'False', 'True', 'False', 'False', 'False',\n",
       "       'True', 'False', 'False', 'False', 'False', 'False', 'False',\n",
       "       'True', 'False', 'False', 'True', 'True', 'False', 'False',\n",
       "       'False', 'False', 'False', 'False', 'True', 'True', 'False',\n",
       "       'False', 'False', 'False', 'True', 'False', 'False', 'False',\n",
       "       'False', 'False', 'False', 'False', 'True', 'False', 'False',\n",
       "       'False', 'False', 'False', 'False', 'False', 'False', 'True',\n",
       "       'False', 'False', 'True', 'False', 'False', 'True', 'False',\n",
       "       'False', 'False', 'False', 'False', 'False', 'False', 'True',\n",
       "       'False', 'False', 'True', 'True', 'False', 'False', 'True',\n",
       "       'False', 'False', 'False', 'False', 'False', 'False', 'False',\n",
       "       'False', 'True', 'False', 'False', 'False', 'False', 'False',\n",
       "       'False', 'True', 'True', 'False', 'False', 'False', 'False',\n",
       "       'True', 'False', 'False', 'False', 'False', 'True', 'False',\n",
       "       'False', 'False', 'False', 'True', 'False', 'False', 'False',\n",
       "       'False', 'True', 'False', 'False', 'False', 'False', 'True',\n",
       "       'False', 'True', 'False', 'False', 'False', 'False', 'False',\n",
       "       'False', 'True', 'False', 'False', 'False', 'False', 'False',\n",
       "       'False', 'False', 'True', 'False', 'True', 'False', 'False',\n",
       "       'True', 'False', 'False', 'False', 'False', 'False', 'False',\n",
       "       'False', 'False', 'False', 'False', 'False', 'False', 'False',\n",
       "       'False', 'False', 'False', 'True', 'True', 'True', 'False',\n",
       "       'False', 'False', 'False', 'False', 'False', 'False', 'False',\n",
       "       'True', 'False', 'True', 'False', 'False', 'False', 'True',\n",
       "       'False', 'True', 'False', 'True', 'False', 'True', 'True', 'True',\n",
       "       'False', 'False', 'False', 'False', 'False', 'False', 'True',\n",
       "       'False', 'False', 'False', 'False', 'False', 'True', 'False',\n",
       "       'False', 'False', 'False', 'False', 'True', 'False', 'False',\n",
       "       'False', 'False', 'False', 'False', 'False', 'False', 'False',\n",
       "       'False', 'False', 'True', 'False', 'False', 'True', 'False',\n",
       "       'False', 'True', 'False', 'True', 'False', 'False', 'False',\n",
       "       'False', 'False', 'True', 'False', 'False', 'False', 'False',\n",
       "       'False', 'True', 'False', 'False', 'True', 'False', 'False',\n",
       "       'False', 'True', 'False', 'False', 'False', 'False', 'False',\n",
       "       'False', 'False', 'True', 'False', 'False', 'False', 'False',\n",
       "       'False', 'False', 'False', 'True', 'False', 'False', 'False',\n",
       "       'False', 'False', 'False', 'False', 'True', 'False', 'True',\n",
       "       'False', 'False', 'False', 'True', 'True', 'True', 'False',\n",
       "       'False', 'False', 'False', 'True', 'False', 'False', 'False',\n",
       "       'False', 'False', 'False', 'False', 'False', 'False', 'False',\n",
       "       'False', 'False', 'False', 'False', 'False', 'False', 'True',\n",
       "       'False', 'False', 'False', 'False', 'False', 'True', 'False',\n",
       "       'False', 'False', 'False', 'True', 'False', 'False', 'False',\n",
       "       'False', 'False', 'False', 'False', 'False', 'False', 'False',\n",
       "       'False', 'True', 'False', 'True', 'False', 'False', 'False',\n",
       "       'False', 'True', 'False', 'False', 'False', 'False', 'False',\n",
       "       'False', 'False', 'False', 'False', 'False', 'True', 'False',\n",
       "       'True', 'False', 'False', 'True', 'False', 'True', 'False',\n",
       "       'False', 'True', 'False', 'False', 'False', 'False', 'False',\n",
       "       'False', 'False', 'False', 'True', 'False', 'False', 'False',\n",
       "       'False', 'True', 'True', 'False', 'False', 'False', 'False',\n",
       "       'False', 'False', 'False', 'False', 'False', 'False', 'False',\n",
       "       'False', 'False', 'False', 'True', 'False', 'False', 'False',\n",
       "       'False', 'False', 'True', 'False', 'False', 'False', 'False',\n",
       "       'False', 'False', 'False', 'False', 'False', 'False', 'False',\n",
       "       'False', 'True', 'False', 'True', 'False', 'False', 'True',\n",
       "       'False', 'False', 'False', 'False', 'True', 'False', 'False',\n",
       "       'False', 'True', 'False', 'True', 'True', 'False', 'False',\n",
       "       'False', 'False', 'True', 'False', 'False', 'False', 'True',\n",
       "       'True', 'False', 'True', 'False', 'False', 'False', 'False',\n",
       "       'False', 'False', 'False', 'False', 'False', 'False', 'False',\n",
       "       'True', 'False', 'False', 'False', 'False', 'False', 'False',\n",
       "       'False', 'False', 'False', 'False', 'False', 'False', 'True',\n",
       "       'True', 'False', 'False', 'True', 'False', 'False', 'True', 'True',\n",
       "       'True', 'False', 'False', 'False', 'False', 'False', 'True',\n",
       "       'False', 'True', 'False', 'False', 'True', 'False', 'False',\n",
       "       'True', 'False', 'True', 'True', 'False', 'False', 'False', 'True',\n",
       "       'False', 'False', 'False', 'False', 'False', 'False', 'False',\n",
       "       'False', 'True', 'False', 'False', 'False', 'False', 'False',\n",
       "       'False', 'False', 'False', 'False', 'False', 'False', 'False',\n",
       "       'False', 'True', 'False', 'False', 'False', 'True', 'True',\n",
       "       'False', 'True', 'False', 'True', 'False', 'False', 'False',\n",
       "       'False', 'False', 'False', 'False', 'False', 'False', 'False',\n",
       "       'False', 'True', 'False', 'False', 'False', 'False', 'False',\n",
       "       'False', 'False', 'False', 'False', 'False', 'False', 'True',\n",
       "       'False', 'False', 'False', 'False', 'False', 'False', 'False',\n",
       "       'False', 'True', 'False', 'False', 'False', 'False', 'False',\n",
       "       'False', 'False', 'True', 'False', 'False', 'True', 'True',\n",
       "       'False', 'False', 'True', 'False', 'False', 'False', 'True',\n",
       "       'False', 'False', 'False', 'False', 'False', 'True', 'False',\n",
       "       'False', 'True', 'False', 'False', 'False', 'False', 'False',\n",
       "       'False', 'False', 'False', 'False', 'True', 'False', 'True',\n",
       "       'False', 'True', 'False', 'False', 'False', 'False', 'False',\n",
       "       'False', 'False', 'False', 'False', 'False', 'True', 'False',\n",
       "       'False', 'False', 'True', 'True', 'False', 'True', 'True', 'True',\n",
       "       'False', 'True', 'False', 'False', 'True', 'False', 'True',\n",
       "       'False', 'False', 'False'], dtype='<U5')"
      ]
     },
     "execution_count": 56,
     "metadata": {},
     "output_type": "execute_result"
    }
   ],
   "source": [
    "np.where(tunned_Xgb==1,'True','False')"
   ]
  },
  {
   "cell_type": "code",
   "execution_count": 57,
   "metadata": {},
   "outputs": [],
   "source": [
    "sub = pd.DataFrame({'1' : test['1'],\n",
    "                    '2' : test['2'],\n",
    "                    '3' : test['3'],\n",
    "                   'Target': tunned_Xgb})\n",
    "sub.to_csv('submission__tunned_Xgb_classification.csv', index=False)"
   ]
  },
  {
   "cell_type": "code",
   "execution_count": 61,
   "metadata": {},
   "outputs": [],
   "source": [
    "from sklearn.pipeline import make_pipeline"
   ]
  },
  {
   "cell_type": "code",
   "execution_count": 62,
   "metadata": {},
   "outputs": [],
   "source": [
    "# Create a pipeline\n",
    "pipe = make_pipeline((RandomForestClassifier()))\n",
    "# Create dictionary with candidate learning algorithms and their hyperparameters\n",
    "grid_param = [\n",
    "                {\"randomforestclassifier\": [RandomForestClassifier()],\n",
    "                 \"randomforestclassifier__n_estimators\": [10, 100, 1000],\n",
    "                 \"randomforestclassifier__max_depth\":[5,8,15,25,30,None],\n",
    "                 \"randomforestclassifier__min_samples_leaf\":[1,2,5,10,15,100],\n",
    "                 \"randomforestclassifier__max_leaf_nodes\": [2, 5,10]}]\n",
    "# create a gridsearch of the pipeline, the fit the best model\n",
    "gridsearch = GridSearchCV(pipe, grid_param, cv=5, verbose=0,n_jobs=-1) # Fit grid search\n",
    "best_model = gridsearch.fit(X_train,y_train)"
   ]
  },
  {
   "cell_type": "code",
   "execution_count": null,
   "metadata": {},
   "outputs": [],
   "source": []
  },
  {
   "cell_type": "code",
   "execution_count": 63,
   "metadata": {},
   "outputs": [
    {
     "data": {
      "text/plain": [
       "0.930976430976431"
      ]
     },
     "execution_count": 63,
     "metadata": {},
     "output_type": "execute_result"
    }
   ],
   "source": [
    "best_model.score(X_test,y_test)"
   ]
  },
  {
   "cell_type": "code",
   "execution_count": 67,
   "metadata": {},
   "outputs": [],
   "source": [
    "y_predict = best_model.predict(X_test)"
   ]
  },
  {
   "cell_type": "code",
   "execution_count": 68,
   "metadata": {},
   "outputs": [
    {
     "name": "stdout",
     "output_type": "stream",
     "text": [
      "[[461   1]\n",
      " [ 40  92]]\n",
      "              precision    recall  f1-score   support\n",
      "\n",
      "           0       0.92      1.00      0.96       462\n",
      "           1       0.99      0.70      0.82       132\n",
      "\n",
      "    accuracy                           0.93       594\n",
      "   macro avg       0.95      0.85      0.89       594\n",
      "weighted avg       0.94      0.93      0.93       594\n",
      "\n"
     ]
    }
   ],
   "source": [
    "print(metrics.confusion_matrix(y_test, y_predict))\n",
    "print(metrics.classification_report(y_test, y_predict))\n"
   ]
  },
  {
   "cell_type": "markdown",
   "metadata": {},
   "source": [
    "The Target variable being imbalanced, we need to perform sampling such as SMOTE"
   ]
  },
  {
   "cell_type": "code",
   "execution_count": null,
   "metadata": {},
   "outputs": [],
   "source": []
  }
 ],
 "metadata": {
  "kernelspec": {
   "display_name": "Python 3",
   "language": "python",
   "name": "python3"
  },
  "language_info": {
   "codemirror_mode": {
    "name": "ipython",
    "version": 3
   },
   "file_extension": ".py",
   "mimetype": "text/x-python",
   "name": "python",
   "nbconvert_exporter": "python",
   "pygments_lexer": "ipython3",
   "version": "3.7.3"
  }
 },
 "nbformat": 4,
 "nbformat_minor": 2
}
