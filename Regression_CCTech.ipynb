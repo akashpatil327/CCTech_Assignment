{
 "cells": [
  {
   "cell_type": "code",
   "execution_count": 36,
   "metadata": {},
   "outputs": [],
   "source": [
    "import pyforest\n",
    "from sklearn.linear_model import LinearRegression\n",
    "from sklearn.pipeline import Pipeline\n",
    "from sklearn.preprocessing import StandardScaler\n",
    "from sklearn.tree import DecisionTreeRegressor\n",
    "from sklearn.ensemble import RandomForestRegressor\n",
    "from xgboost import XGBRegressor\n",
    "\n",
    "from sklearn.model_selection import GridSearchCV\n",
    "\n"
   ]
  },
  {
   "cell_type": "code",
   "execution_count": 3,
   "metadata": {},
   "outputs": [],
   "source": [
    "train = pd.read_csv(\"dataset.csv\")\n",
    "test = pd.read_csv(\"prediction.csv\")"
   ]
  },
  {
   "cell_type": "code",
   "execution_count": 4,
   "metadata": {},
   "outputs": [
    {
     "data": {
      "text/html": [
       "<div>\n",
       "<style scoped>\n",
       "    .dataframe tbody tr th:only-of-type {\n",
       "        vertical-align: middle;\n",
       "    }\n",
       "\n",
       "    .dataframe tbody tr th {\n",
       "        vertical-align: top;\n",
       "    }\n",
       "\n",
       "    .dataframe thead th {\n",
       "        text-align: right;\n",
       "    }\n",
       "</style>\n",
       "<table border=\"1\" class=\"dataframe\">\n",
       "  <thead>\n",
       "    <tr style=\"text-align: right;\">\n",
       "      <th></th>\n",
       "      <th>0</th>\n",
       "      <th>1</th>\n",
       "      <th>2</th>\n",
       "      <th>3</th>\n",
       "      <th>4</th>\n",
       "      <th>5</th>\n",
       "      <th>6</th>\n",
       "      <th>7</th>\n",
       "      <th>8</th>\n",
       "      <th>target</th>\n",
       "    </tr>\n",
       "  </thead>\n",
       "  <tbody>\n",
       "    <tr>\n",
       "      <th>0</th>\n",
       "      <td>7.547600</td>\n",
       "      <td>0.151261</td>\n",
       "      <td>557.132466</td>\n",
       "      <td>354.008599</td>\n",
       "      <td>0.301029</td>\n",
       "      <td>55.282594</td>\n",
       "      <td>9635.211683</td>\n",
       "      <td>2.0</td>\n",
       "      <td>1.0</td>\n",
       "      <td>9461.469590</td>\n",
       "    </tr>\n",
       "    <tr>\n",
       "      <th>1</th>\n",
       "      <td>3.140491</td>\n",
       "      <td>0.794497</td>\n",
       "      <td>837.116189</td>\n",
       "      <td>104.515774</td>\n",
       "      <td>0.110622</td>\n",
       "      <td>88.516243</td>\n",
       "      <td>9425.041942</td>\n",
       "      <td>2.0</td>\n",
       "      <td>5.0</td>\n",
       "      <td>10257.271938</td>\n",
       "    </tr>\n",
       "    <tr>\n",
       "      <th>2</th>\n",
       "      <td>2.064447</td>\n",
       "      <td>0.236500</td>\n",
       "      <td>313.757354</td>\n",
       "      <td>259.127993</td>\n",
       "      <td>0.729964</td>\n",
       "      <td>88.350465</td>\n",
       "      <td>9115.661199</td>\n",
       "      <td>1.0</td>\n",
       "      <td>5.0</td>\n",
       "      <td>8719.214483</td>\n",
       "    </tr>\n",
       "    <tr>\n",
       "      <th>3</th>\n",
       "      <td>9.099262</td>\n",
       "      <td>0.453953</td>\n",
       "      <td>661.409826</td>\n",
       "      <td>466.070226</td>\n",
       "      <td>0.432750</td>\n",
       "      <td>21.516152</td>\n",
       "      <td>9584.310016</td>\n",
       "      <td>3.0</td>\n",
       "      <td>2.0</td>\n",
       "      <td>9165.197338</td>\n",
       "    </tr>\n",
       "    <tr>\n",
       "      <th>4</th>\n",
       "      <td>5.264564</td>\n",
       "      <td>0.683869</td>\n",
       "      <td>344.154511</td>\n",
       "      <td>485.441053</td>\n",
       "      <td>0.085599</td>\n",
       "      <td>90.308205</td>\n",
       "      <td>9193.271575</td>\n",
       "      <td>2.0</td>\n",
       "      <td>1.0</td>\n",
       "      <td>9458.427537</td>\n",
       "    </tr>\n",
       "  </tbody>\n",
       "</table>\n",
       "</div>"
      ],
      "text/plain": [
       "          0         1           2           3         4          5  \\\n",
       "0  7.547600  0.151261  557.132466  354.008599  0.301029  55.282594   \n",
       "1  3.140491  0.794497  837.116189  104.515774  0.110622  88.516243   \n",
       "2  2.064447  0.236500  313.757354  259.127993  0.729964  88.350465   \n",
       "3  9.099262  0.453953  661.409826  466.070226  0.432750  21.516152   \n",
       "4  5.264564  0.683869  344.154511  485.441053  0.085599  90.308205   \n",
       "\n",
       "             6    7    8        target  \n",
       "0  9635.211683  2.0  1.0   9461.469590  \n",
       "1  9425.041942  2.0  5.0  10257.271938  \n",
       "2  9115.661199  1.0  5.0   8719.214483  \n",
       "3  9584.310016  3.0  2.0   9165.197338  \n",
       "4  9193.271575  2.0  1.0   9458.427537  "
      ]
     },
     "execution_count": 4,
     "metadata": {},
     "output_type": "execute_result"
    }
   ],
   "source": [
    "train.head()"
   ]
  },
  {
   "cell_type": "code",
   "execution_count": 26,
   "metadata": {},
   "outputs": [
    {
     "data": {
      "text/html": [
       "<div>\n",
       "<style scoped>\n",
       "    .dataframe tbody tr th:only-of-type {\n",
       "        vertical-align: middle;\n",
       "    }\n",
       "\n",
       "    .dataframe tbody tr th {\n",
       "        vertical-align: top;\n",
       "    }\n",
       "\n",
       "    .dataframe thead th {\n",
       "        text-align: right;\n",
       "    }\n",
       "</style>\n",
       "<table border=\"1\" class=\"dataframe\">\n",
       "  <thead>\n",
       "    <tr style=\"text-align: right;\">\n",
       "      <th></th>\n",
       "      <th>0</th>\n",
       "      <th>1</th>\n",
       "      <th>2</th>\n",
       "      <th>3</th>\n",
       "      <th>4</th>\n",
       "      <th>5</th>\n",
       "      <th>6</th>\n",
       "      <th>7</th>\n",
       "      <th>8</th>\n",
       "    </tr>\n",
       "  </thead>\n",
       "  <tbody>\n",
       "    <tr>\n",
       "      <th>0</th>\n",
       "      <td>8.243945</td>\n",
       "      <td>0.442707</td>\n",
       "      <td>814.191463</td>\n",
       "      <td>437.449497</td>\n",
       "      <td>0.820757</td>\n",
       "      <td>66.358208</td>\n",
       "      <td>9321.584760</td>\n",
       "      <td>1.0</td>\n",
       "      <td>5.0</td>\n",
       "    </tr>\n",
       "    <tr>\n",
       "      <th>1</th>\n",
       "      <td>0.450469</td>\n",
       "      <td>0.734878</td>\n",
       "      <td>690.536337</td>\n",
       "      <td>337.971868</td>\n",
       "      <td>0.163483</td>\n",
       "      <td>88.966042</td>\n",
       "      <td>9653.465215</td>\n",
       "      <td>2.0</td>\n",
       "      <td>3.0</td>\n",
       "    </tr>\n",
       "    <tr>\n",
       "      <th>2</th>\n",
       "      <td>5.805761</td>\n",
       "      <td>0.412531</td>\n",
       "      <td>225.544432</td>\n",
       "      <td>468.295427</td>\n",
       "      <td>0.254678</td>\n",
       "      <td>27.853712</td>\n",
       "      <td>9840.535247</td>\n",
       "      <td>2.0</td>\n",
       "      <td>3.0</td>\n",
       "    </tr>\n",
       "    <tr>\n",
       "      <th>3</th>\n",
       "      <td>4.126340</td>\n",
       "      <td>0.685302</td>\n",
       "      <td>73.330815</td>\n",
       "      <td>169.578437</td>\n",
       "      <td>0.828849</td>\n",
       "      <td>81.691968</td>\n",
       "      <td>9044.806270</td>\n",
       "      <td>2.0</td>\n",
       "      <td>5.0</td>\n",
       "    </tr>\n",
       "    <tr>\n",
       "      <th>4</th>\n",
       "      <td>8.082666</td>\n",
       "      <td>0.449977</td>\n",
       "      <td>526.274384</td>\n",
       "      <td>308.148895</td>\n",
       "      <td>0.737136</td>\n",
       "      <td>30.420377</td>\n",
       "      <td>9916.538668</td>\n",
       "      <td>1.0</td>\n",
       "      <td>5.0</td>\n",
       "    </tr>\n",
       "  </tbody>\n",
       "</table>\n",
       "</div>"
      ],
      "text/plain": [
       "          0         1           2           3         4          5  \\\n",
       "0  8.243945  0.442707  814.191463  437.449497  0.820757  66.358208   \n",
       "1  0.450469  0.734878  690.536337  337.971868  0.163483  88.966042   \n",
       "2  5.805761  0.412531  225.544432  468.295427  0.254678  27.853712   \n",
       "3  4.126340  0.685302   73.330815  169.578437  0.828849  81.691968   \n",
       "4  8.082666  0.449977  526.274384  308.148895  0.737136  30.420377   \n",
       "\n",
       "             6    7    8  \n",
       "0  9321.584760  1.0  5.0  \n",
       "1  9653.465215  2.0  3.0  \n",
       "2  9840.535247  2.0  3.0  \n",
       "3  9044.806270  2.0  5.0  \n",
       "4  9916.538668  1.0  5.0  "
      ]
     },
     "execution_count": 26,
     "metadata": {},
     "output_type": "execute_result"
    }
   ],
   "source": [
    "test.head()"
   ]
  },
  {
   "cell_type": "code",
   "execution_count": 5,
   "metadata": {},
   "outputs": [
    {
     "name": "stdout",
     "output_type": "stream",
     "text": [
      "<class 'pandas.core.frame.DataFrame'>\n",
      "RangeIndex: 900 entries, 0 to 899\n",
      "Data columns (total 10 columns):\n",
      "0         900 non-null float64\n",
      "1         900 non-null float64\n",
      "2         900 non-null float64\n",
      "3         900 non-null float64\n",
      "4         900 non-null float64\n",
      "5         900 non-null float64\n",
      "6         900 non-null float64\n",
      "7         900 non-null float64\n",
      "8         900 non-null float64\n",
      "target    900 non-null float64\n",
      "dtypes: float64(10)\n",
      "memory usage: 70.4 KB\n"
     ]
    }
   ],
   "source": [
    "train.info()"
   ]
  },
  {
   "cell_type": "code",
   "execution_count": 6,
   "metadata": {},
   "outputs": [
    {
     "data": {
      "text/html": [
       "<div>\n",
       "<style scoped>\n",
       "    .dataframe tbody tr th:only-of-type {\n",
       "        vertical-align: middle;\n",
       "    }\n",
       "\n",
       "    .dataframe tbody tr th {\n",
       "        vertical-align: top;\n",
       "    }\n",
       "\n",
       "    .dataframe thead th {\n",
       "        text-align: right;\n",
       "    }\n",
       "</style>\n",
       "<table border=\"1\" class=\"dataframe\">\n",
       "  <thead>\n",
       "    <tr style=\"text-align: right;\">\n",
       "      <th></th>\n",
       "      <th>0</th>\n",
       "      <th>1</th>\n",
       "      <th>2</th>\n",
       "      <th>3</th>\n",
       "      <th>4</th>\n",
       "      <th>5</th>\n",
       "      <th>6</th>\n",
       "      <th>7</th>\n",
       "      <th>8</th>\n",
       "      <th>target</th>\n",
       "    </tr>\n",
       "  </thead>\n",
       "  <tbody>\n",
       "    <tr>\n",
       "      <th>count</th>\n",
       "      <td>900.000000</td>\n",
       "      <td>900.000000</td>\n",
       "      <td>900.000000</td>\n",
       "      <td>900.000000</td>\n",
       "      <td>900.000000</td>\n",
       "      <td>900.000000</td>\n",
       "      <td>900.000000</td>\n",
       "      <td>900.000000</td>\n",
       "      <td>900.000000</td>\n",
       "      <td>900.000000</td>\n",
       "    </tr>\n",
       "    <tr>\n",
       "      <th>mean</th>\n",
       "      <td>5.036548</td>\n",
       "      <td>0.504976</td>\n",
       "      <td>493.064463</td>\n",
       "      <td>297.303826</td>\n",
       "      <td>0.507925</td>\n",
       "      <td>49.781970</td>\n",
       "      <td>9507.426024</td>\n",
       "      <td>1.973333</td>\n",
       "      <td>3.436667</td>\n",
       "      <td>9118.263873</td>\n",
       "    </tr>\n",
       "    <tr>\n",
       "      <th>std</th>\n",
       "      <td>2.869018</td>\n",
       "      <td>0.289803</td>\n",
       "      <td>290.436017</td>\n",
       "      <td>116.899846</td>\n",
       "      <td>0.286008</td>\n",
       "      <td>28.684840</td>\n",
       "      <td>283.069448</td>\n",
       "      <td>0.788798</td>\n",
       "      <td>1.677367</td>\n",
       "      <td>852.633238</td>\n",
       "    </tr>\n",
       "    <tr>\n",
       "      <th>min</th>\n",
       "      <td>0.037452</td>\n",
       "      <td>0.000942</td>\n",
       "      <td>0.969406</td>\n",
       "      <td>100.651192</td>\n",
       "      <td>0.000527</td>\n",
       "      <td>0.185411</td>\n",
       "      <td>9000.096807</td>\n",
       "      <td>1.000000</td>\n",
       "      <td>1.000000</td>\n",
       "      <td>6298.862662</td>\n",
       "    </tr>\n",
       "    <tr>\n",
       "      <th>25%</th>\n",
       "      <td>2.518373</td>\n",
       "      <td>0.248575</td>\n",
       "      <td>247.145068</td>\n",
       "      <td>195.239150</td>\n",
       "      <td>0.284926</td>\n",
       "      <td>25.777689</td>\n",
       "      <td>9267.721916</td>\n",
       "      <td>1.000000</td>\n",
       "      <td>2.000000</td>\n",
       "      <td>8627.098283</td>\n",
       "    </tr>\n",
       "    <tr>\n",
       "      <th>50%</th>\n",
       "      <td>4.944200</td>\n",
       "      <td>0.524393</td>\n",
       "      <td>497.186526</td>\n",
       "      <td>301.949065</td>\n",
       "      <td>0.501211</td>\n",
       "      <td>49.517510</td>\n",
       "      <td>9500.814515</td>\n",
       "      <td>2.000000</td>\n",
       "      <td>3.000000</td>\n",
       "      <td>9208.588416</td>\n",
       "    </tr>\n",
       "    <tr>\n",
       "      <th>75%</th>\n",
       "      <td>7.631981</td>\n",
       "      <td>0.753136</td>\n",
       "      <td>736.572313</td>\n",
       "      <td>399.999965</td>\n",
       "      <td>0.750584</td>\n",
       "      <td>74.538269</td>\n",
       "      <td>9751.394987</td>\n",
       "      <td>3.000000</td>\n",
       "      <td>5.000000</td>\n",
       "      <td>9713.801784</td>\n",
       "    </tr>\n",
       "    <tr>\n",
       "      <th>max</th>\n",
       "      <td>9.997094</td>\n",
       "      <td>0.998795</td>\n",
       "      <td>999.208515</td>\n",
       "      <td>499.174221</td>\n",
       "      <td>0.999742</td>\n",
       "      <td>99.926403</td>\n",
       "      <td>9999.499080</td>\n",
       "      <td>3.000000</td>\n",
       "      <td>6.000000</td>\n",
       "      <td>11175.834533</td>\n",
       "    </tr>\n",
       "  </tbody>\n",
       "</table>\n",
       "</div>"
      ],
      "text/plain": [
       "                0           1           2           3           4           5  \\\n",
       "count  900.000000  900.000000  900.000000  900.000000  900.000000  900.000000   \n",
       "mean     5.036548    0.504976  493.064463  297.303826    0.507925   49.781970   \n",
       "std      2.869018    0.289803  290.436017  116.899846    0.286008   28.684840   \n",
       "min      0.037452    0.000942    0.969406  100.651192    0.000527    0.185411   \n",
       "25%      2.518373    0.248575  247.145068  195.239150    0.284926   25.777689   \n",
       "50%      4.944200    0.524393  497.186526  301.949065    0.501211   49.517510   \n",
       "75%      7.631981    0.753136  736.572313  399.999965    0.750584   74.538269   \n",
       "max      9.997094    0.998795  999.208515  499.174221    0.999742   99.926403   \n",
       "\n",
       "                 6           7           8        target  \n",
       "count   900.000000  900.000000  900.000000    900.000000  \n",
       "mean   9507.426024    1.973333    3.436667   9118.263873  \n",
       "std     283.069448    0.788798    1.677367    852.633238  \n",
       "min    9000.096807    1.000000    1.000000   6298.862662  \n",
       "25%    9267.721916    1.000000    2.000000   8627.098283  \n",
       "50%    9500.814515    2.000000    3.000000   9208.588416  \n",
       "75%    9751.394987    3.000000    5.000000   9713.801784  \n",
       "max    9999.499080    3.000000    6.000000  11175.834533  "
      ]
     },
     "execution_count": 6,
     "metadata": {},
     "output_type": "execute_result"
    }
   ],
   "source": [
    "train.describe()"
   ]
  },
  {
   "cell_type": "code",
   "execution_count": 7,
   "metadata": {},
   "outputs": [],
   "source": [
    "from sklearn.model_selection import train_test_split"
   ]
  },
  {
   "cell_type": "code",
   "execution_count": 9,
   "metadata": {},
   "outputs": [],
   "source": [
    "X = train[['0', '1', '2', '3', '4', '5', '6', '7', '8']]\n",
    "y = train['target']"
   ]
  },
  {
   "cell_type": "code",
   "execution_count": 13,
   "metadata": {},
   "outputs": [],
   "source": [
    "X_train,X_test,y_train,y_test=train_test_split(X,y,test_size=0.3,random_state=0)"
   ]
  },
  {
   "cell_type": "code",
   "execution_count": 14,
   "metadata": {},
   "outputs": [],
   "source": [
    "pipeline_Lr=Pipeline([('scalar',StandardScaler()),('Lr',LinearRegression())])"
   ]
  },
  {
   "cell_type": "code",
   "execution_count": 15,
   "metadata": {},
   "outputs": [],
   "source": [
    "pipeline_Dt=Pipeline([('Dt',DecisionTreeRegressor())])"
   ]
  },
  {
   "cell_type": "code",
   "execution_count": 16,
   "metadata": {},
   "outputs": [],
   "source": [
    "pipeline_Rf=Pipeline([('Rf',RandomForestRegressor())])"
   ]
  },
  {
   "cell_type": "code",
   "execution_count": 37,
   "metadata": {},
   "outputs": [],
   "source": [
    "pipeline_Xg=Pipeline([('Xgb',XGBRegressor())])"
   ]
  },
  {
   "cell_type": "code",
   "execution_count": 38,
   "metadata": {},
   "outputs": [],
   "source": [
    "## Lets make the list of pipelines\n",
    "pipelines = [pipeline_Lr, pipeline_Dt, pipeline_Rf,pipeline_Xg]"
   ]
  },
  {
   "cell_type": "code",
   "execution_count": 39,
   "metadata": {},
   "outputs": [],
   "source": [
    "# Dictionary of pipelines and classifier types for ease of reference\n",
    "pipe_dict = {0: 'Linear Regression', 1: 'Decision Tree', 2: 'RandomForest', 3: 'XGB'}\n",
    "\n",
    "# Fit the pipelines\n",
    "for pipe in pipelines:\n",
    "    pipe.fit(X_train, y_train)"
   ]
  },
  {
   "cell_type": "code",
   "execution_count": 40,
   "metadata": {},
   "outputs": [],
   "source": [
    "best_accuracy=0.0\n",
    "best_regressor=0\n",
    "best_pipeline=\"\""
   ]
  },
  {
   "cell_type": "code",
   "execution_count": 41,
   "metadata": {},
   "outputs": [
    {
     "name": "stdout",
     "output_type": "stream",
     "text": [
      "Linear Regression Train Accuracy: 0.8261220765806441\n",
      "Decision Tree Train Accuracy: 1.0\n",
      "RandomForest Train Accuracy: 0.9667222610714463\n",
      "XGB Train Accuracy: 0.9999296101316166\n"
     ]
    }
   ],
   "source": [
    "for i,model in enumerate(pipelines):\n",
    "    print(\"{} Train Accuracy: {}\".format(pipe_dict[i],model.score(X_train,y_train)))"
   ]
  },
  {
   "cell_type": "code",
   "execution_count": 21,
   "metadata": {},
   "outputs": [
    {
     "name": "stdout",
     "output_type": "stream",
     "text": [
      "Linear Regression Test Accuracy: 0.8321755251738214\n",
      "Decision Tree Test Accuracy: 0.677520621628649\n",
      "RandomForest Test Accuracy: 0.8254894224362301\n"
     ]
    }
   ],
   "source": [
    "for i,model in enumerate(pipelines):\n",
    "    print(\"{} Test Accuracy: {}\".format(pipe_dict[i],model.score(X_test,y_test)))"
   ]
  },
  {
   "cell_type": "code",
   "execution_count": 42,
   "metadata": {},
   "outputs": [
    {
     "name": "stdout",
     "output_type": "stream",
     "text": [
      "Regressor with best accuracy:XGB\n"
     ]
    }
   ],
   "source": [
    "for i,model in enumerate(pipelines):\n",
    "    if model.score(X_test,y_test)>best_accuracy:\n",
    "        best_accuracy=model.score(X_test,y_test)\n",
    "        best_pipeline=model\n",
    "        best_regressor=i\n",
    "print('Regressor with best accuracy:{}'.format(pipe_dict[best_regressor]))"
   ]
  },
  {
   "cell_type": "code",
   "execution_count": 23,
   "metadata": {},
   "outputs": [],
   "source": [
    "LR_Pred = pipeline_Lr.predict(test)"
   ]
  },
  {
   "cell_type": "code",
   "execution_count": 25,
   "metadata": {},
   "outputs": [],
   "source": [
    "sub = pd.DataFrame({'0' : test['0'],\n",
    "                    '1' : test['1'],\n",
    "                    '2' : test['2'], \n",
    "                    '3' : test['3'], \n",
    "                    '4' : test['4'], \n",
    "                    '5' : test['5'], \n",
    "                    '6' : test['6'], \n",
    "                    '7' : test['7'], \n",
    "                    '8' : test['8'],\n",
    "                    'Target' :  LR_Pred})\n",
    "sub.to_csv('submission_LR.csv', index=False)"
   ]
  },
  {
   "cell_type": "code",
   "execution_count": 43,
   "metadata": {},
   "outputs": [],
   "source": [
    "Xgb_Pred = pipeline_Xg.predict(test)"
   ]
  },
  {
   "cell_type": "code",
   "execution_count": 44,
   "metadata": {},
   "outputs": [],
   "source": [
    "sub = pd.DataFrame({'0' : test['0'],\n",
    "                    '1' : test['1'],\n",
    "                    '2' : test['2'], \n",
    "                    '3' : test['3'], \n",
    "                    '4' : test['4'], \n",
    "                    '5' : test['5'], \n",
    "                    '6' : test['6'], \n",
    "                    '7' : test['7'], \n",
    "                    '8' : test['8'],\n",
    "                    'Target' :  Xgb_Pred})\n",
    "sub.to_csv('submission_Xgb.csv', index=False)"
   ]
  },
  {
   "cell_type": "markdown",
   "metadata": {},
   "source": [
    "## Hyperparameter Tuning Using Grid SearchCV"
   ]
  },
  {
   "cell_type": "code",
   "execution_count": 64,
   "metadata": {},
   "outputs": [
    {
     "name": "stdout",
     "output_type": "stream",
     "text": [
      "Fitting 2 folds for each of 9 candidates, totalling 18 fits\n"
     ]
    },
    {
     "name": "stderr",
     "output_type": "stream",
     "text": [
      "[Parallel(n_jobs=5)]: Using backend LokyBackend with 5 concurrent workers.\n",
      "[Parallel(n_jobs=5)]: Done  18 out of  18 | elapsed:   19.4s finished\n"
     ]
    },
    {
     "name": "stdout",
     "output_type": "stream",
     "text": [
      "0.8444595333587511\n",
      "{'colsample_bytree': 0.7, 'learning_rate': 0.03, 'max_depth': 5, 'min_child_weight': 4, 'n_estimators': 500, 'nthread': 4, 'objective': 'reg:linear', 'silent': 1, 'subsample': 0.7}\n"
     ]
    }
   ],
   "source": [
    "xgb1 = XGBRegressor()\n",
    "estimator = XGBRegressor(\n",
    "    objective= 'binary:linear',\n",
    "    nthread=4,\n",
    "    seed=42)\n",
    "parameters = {\n",
    "              'learning_rate': [.03, 0.05, .07], #so called `eta` value\n",
    "              'max_depth': [5, 6, 7],\n",
    "              'min_child_weight': [4],\n",
    "              'silent': [1],\n",
    "              'subsample': [0.7],\n",
    "              'colsample_bytree': [0.7],\n",
    "              'n_estimators': [500]\n",
    "}\n",
    "\n",
    "grid_search = GridSearchCV(\n",
    "    estimator=estimator,\n",
    "    param_grid=parameters,\n",
    "    scoring = 'roc_auc',\n",
    "    n_jobs = 5,\n",
    "    cv = 5,\n",
    "    verbose=True\n",
    ")\n",
    "\n",
    "xgb_grid.fit(X_train,y_train)\n",
    "\n",
    "print(xgb_grid.best_score_)\n",
    "print(xgb_grid.best_params_)"
   ]
  },
  {
   "cell_type": "code",
   "execution_count": 66,
   "metadata": {},
   "outputs": [],
   "source": [
    "tunned_xgb = xgb_grid.predict(test)"
   ]
  },
  {
   "cell_type": "code",
   "execution_count": 67,
   "metadata": {},
   "outputs": [
    {
     "data": {
      "text/plain": [
       "array([ 9183.02  , 10039.411 ,  9698.427 ,  7793.709 ,  9942.24  ,\n",
       "       10035.867 ,  8619.835 , 10257.873 ,  9087.185 ,  8791.093 ,\n",
       "        8665.814 , 10427.563 ,  9630.089 ,  8324.235 ,  8521.469 ,\n",
       "        9570.711 ,  8824.965 , 10659.833 ,  7907.1274,  9636.353 ,\n",
       "        9788.892 ,  7156.7046,  9305.589 ,  7894.4443, 10387.527 ,\n",
       "        8515.819 ,  9287.649 ,  9202.386 ,  8355.958 ,  9122.037 ,\n",
       "       10423.363 ,  9429.232 ,  8984.611 ,  9363.955 ,  9892.778 ,\n",
       "       10627.56  ,  9768.556 ,  8871.031 ,  9476.999 ,  9646.058 ,\n",
       "       10496.469 ,  9704.804 ,  9202.461 ,  8579.351 ,  9027.22  ,\n",
       "        9767.896 ,  9917.988 ,  9791.202 ,  9875.621 ,  9997.258 ,\n",
       "        9445.241 ,  9100.525 ,  9193.022 ,  8150.7676,  9291.846 ,\n",
       "       10061.468 ,  8800.1875, 10004.547 ,  9952.214 ,  8761.566 ,\n",
       "        9722.381 ,  7998.917 ,  9339.871 ,  8316.2295,  7312.622 ,\n",
       "        9704.67  ,  7197.707 ,  9120.336 ,  8139.62  , 10293.179 ,\n",
       "       10000.715 ,  8963.753 ,  8875.618 ,  9468.087 ,  9194.061 ,\n",
       "        8350.624 ,  8605.749 ,  9878.991 ,  8346.021 ,  7596.275 ,\n",
       "        8727.99  ,  8738.216 ,  8228.531 ,  9500.635 ,  8972.361 ,\n",
       "       10027.639 , 10301.696 ,  8405.661 ,  9505.324 ,  9308.163 ,\n",
       "        7950.3   ,  9094.676 ,  8353.637 , 10273.882 , 10062.099 ,\n",
       "        8522.498 ,  8267.527 ,  9272.538 ,  9325.939 ,  8488.876 ],\n",
       "      dtype=float32)"
      ]
     },
     "execution_count": 67,
     "metadata": {},
     "output_type": "execute_result"
    }
   ],
   "source": [
    "tunned_xgb"
   ]
  },
  {
   "cell_type": "code",
   "execution_count": null,
   "metadata": {},
   "outputs": [],
   "source": []
  }
 ],
 "metadata": {
  "kernelspec": {
   "display_name": "Python 3",
   "language": "python",
   "name": "python3"
  },
  "language_info": {
   "codemirror_mode": {
    "name": "ipython",
    "version": 3
   },
   "file_extension": ".py",
   "mimetype": "text/x-python",
   "name": "python",
   "nbconvert_exporter": "python",
   "pygments_lexer": "ipython3",
   "version": "3.7.3"
  }
 },
 "nbformat": 4,
 "nbformat_minor": 2
}
